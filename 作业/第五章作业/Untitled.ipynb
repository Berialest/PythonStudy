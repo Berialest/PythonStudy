{
 "cells": [
  {
   "cell_type": "code",
   "execution_count": null,
   "metadata": {},
   "outputs": [],
   "source": [
    "X=housep.iloc[:,[1,2,4,5,7,10,11,12,13,14,15,16,]].values.astype(float)\n",
    "y=housep.iloc[:,1].values.astype(int)\n",
    "y"
   ]
  },
  {
   "cell_type": "code",
   "execution_count": null,
   "metadata": {},
   "outputs": [],
   "source": [
    "from sklearn.linear_model import LinearRegression\n",
    "from sklearn import model_selection\n",
    "X_train,X_test,y_train,y_test=model_selection.train_test_split(X,y,test_size=0.3,random_state=1)\n",
    "linregTr=LinearRegression()\n",
    "linregTr.fit(X_train,y_train)\n",
    "print(linregTr.coef_,linregTr.intercept_)"
   ]
  },
  {
   "cell_type": "code",
   "execution_count": null,
   "metadata": {},
   "outputs": [],
   "source": [
    "from sklearn.externals import joblib\n",
    "joblib.dump(linreg,'c:\\\\data\\\\linreg.pkl')\n",
    "load_linreg=joblib.load('c:\\\\data\\\\linreg.pkl')\n",
    "new_x=np.array([[120,1,1,3,1,2,2,1,1,2010,1,20]])\n",
    "print('预期价格：',load_linreg.predict(new_x))"
   ]
  },
  {
   "cell_type": "code",
   "execution_count": null,
   "metadata": {},
   "outputs": [],
   "source": [
    "from sklearn import metrics\n",
    "y_train_pred = linregTr.predict(X_train)\n",
    "y_test_pred = linregTr.predict(X_test)\n",
    "train_err = metrics.mean_squared_error(y_train, y_train_pred) \n",
    "test_err = metrics.mean_squared_error(y_test, y_test_pred) \n",
    "'The mean squar error of train and test are: {:.2f}, {:.2f}'.format(train_err, test_err) "
   ]
  },
  {
   "cell_type": "code",
   "execution_count": null,
   "metadata": {},
   "outputs": [],
   "source": [
    "predict_score =linregTr.score(X_test,y_test)\n",
    "'The decision coeficient is:{:.2f} '.format(predict_score) "
   ]
  },
  {
   "cell_type": "code",
   "execution_count": null,
   "metadata": {},
   "outputs": [],
   "source": []
  },
  {
   "cell_type": "code",
   "execution_count": null,
   "metadata": {},
   "outputs": [],
   "source": []
  },
  {
   "cell_type": "code",
   "execution_count": null,
   "metadata": {},
   "outputs": [],
   "source": []
  }
 ],
 "metadata": {
  "kernelspec": {
   "display_name": "Python 3",
   "language": "python",
   "name": "python3"
  },
  "language_info": {
   "codemirror_mode": {
    "name": "ipython",
    "version": 3
   },
   "file_extension": ".py",
   "mimetype": "text/x-python",
   "name": "python",
   "nbconvert_exporter": "python",
   "pygments_lexer": "ipython3",
   "version": "3.7.0"
  }
 },
 "nbformat": 4,
 "nbformat_minor": 2
}
